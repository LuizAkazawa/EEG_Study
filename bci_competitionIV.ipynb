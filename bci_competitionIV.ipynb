{
 "cells": [
  {
   "cell_type": "code",
   "execution_count": 1,
   "id": "1542c91d",
   "metadata": {},
   "outputs": [],
   "source": [
    "import numpy as np\n",
    "import os\n",
    "import mne\n",
    "from scipy.signal import stft\n",
    "from sklearn.model_selection import train_test_split\n",
    "from sklearn.metrics import cohen_kappa_score\n",
    "import tensorflow as tf\n",
    "from tensorflow.keras import layers, models, losses, optimizers\n",
    "import matplotlib.pyplot as plt\n",
    "\n",
    "# Set random seeds for reproducibility\n",
    "np.random.seed(42)\n",
    "tf.random.set_seed(42)"
   ]
  },
  {
   "cell_type": "code",
   "execution_count": 7,
   "id": "e14faf0b",
   "metadata": {},
   "outputs": [],
   "source": [
    "def load_bci_iv_2b(subject=1, data_dir=\"./BCI_IV_2b\"):\n",
    "    \"\"\"Load EEG data for a subject from BCI Competition IV 2b.\"\"\"\n",
    "    # Construct file path (e.g., \"./BCI_IV_2b/B01T.gdf\")\n",
    "    file_path = os.path.join(data_dir, f\"B0{subject}T.gdf\")\n",
    "    \n",
    "    # Load the GDF file (correct function for .gdf)\n",
    "    raw = mne.io.read_raw_gdf(file_path, preload=True)\n",
    "    \n",
    "    # Extract events (annotations)\n",
    "    events, event_dict = mne.events_from_annotations(raw)\n",
    "    \n",
    "    # Extract left/right hand MI trials (labels: 1=left, 2=right)\n",
    "    epochs = mne.Epochs(raw, events, event_id={'left': 1, 'right': 2}, \n",
    "                       tmin=0.5, tmax=2.5, baseline=None, preload=True)\n",
    "    \n",
    "    X = epochs.get_data()  # Shape: (n_trials, 3 channels, 500 timepoints)\n",
    "    y = epochs.events[:, 2] - 1  # Convert labels to 0/1\n",
    "    \n",
    "    return X, y"
   ]
  },
  {
   "cell_type": "code",
   "execution_count": 10,
   "id": "4cbd9646",
   "metadata": {},
   "outputs": [
    {
     "name": "stdout",
     "output_type": "stream",
     "text": [
      "Extracting EDF parameters from c:\\Users\\luize\\OneDrive\\Área de Trabalho\\Codes\\EEG_Study\\BCICIV_2b_gdf\\B0101T.gdf...\n",
      "GDF file detected\n"
     ]
    },
    {
     "ename": "OverflowError",
     "evalue": "Python integer 256 out of bounds for uint8",
     "output_type": "error",
     "traceback": [
      "\u001b[1;31m---------------------------------------------------------------------------\u001b[0m",
      "\u001b[1;31mOverflowError\u001b[0m                             Traceback (most recent call last)",
      "Cell \u001b[1;32mIn[10], line 2\u001b[0m\n\u001b[0;32m      1\u001b[0m data_dir \u001b[38;5;241m=\u001b[39m \u001b[38;5;124m\"\u001b[39m\u001b[38;5;124m./BCICIV_2b_gdf\u001b[39m\u001b[38;5;124m\"\u001b[39m  \u001b[38;5;66;03m# Update this path!\u001b[39;00m\n\u001b[1;32m----> 2\u001b[0m X, y \u001b[38;5;241m=\u001b[39m \u001b[43mload_bci_iv_2b\u001b[49m\u001b[43m(\u001b[49m\u001b[43msubject\u001b[49m\u001b[38;5;241;43m=\u001b[39;49m\u001b[38;5;241;43m101\u001b[39;49m\u001b[43m,\u001b[49m\u001b[43m \u001b[49m\u001b[43mdata_dir\u001b[49m\u001b[38;5;241;43m=\u001b[39;49m\u001b[43mdata_dir\u001b[49m\u001b[43m)\u001b[49m\n\u001b[0;32m      4\u001b[0m \u001b[38;5;28mprint\u001b[39m(\u001b[38;5;124mf\u001b[39m\u001b[38;5;124m\"\u001b[39m\u001b[38;5;124mData shape: \u001b[39m\u001b[38;5;132;01m{\u001b[39;00mX\u001b[38;5;241m.\u001b[39mshape\u001b[38;5;132;01m}\u001b[39;00m\u001b[38;5;124m\"\u001b[39m)  \u001b[38;5;66;03m# Should print (n_trials, 3, 500)\u001b[39;00m\n\u001b[0;32m      5\u001b[0m \u001b[38;5;28mprint\u001b[39m(\u001b[38;5;124mf\u001b[39m\u001b[38;5;124m\"\u001b[39m\u001b[38;5;124mLabels: \u001b[39m\u001b[38;5;132;01m{\u001b[39;00mnp\u001b[38;5;241m.\u001b[39munique(y)\u001b[38;5;132;01m}\u001b[39;00m\u001b[38;5;124m\"\u001b[39m)  \u001b[38;5;66;03m# Should print [0 1] (left/right)\u001b[39;00m\n",
      "Cell \u001b[1;32mIn[7], line 7\u001b[0m, in \u001b[0;36mload_bci_iv_2b\u001b[1;34m(subject, data_dir)\u001b[0m\n\u001b[0;32m      4\u001b[0m file_path \u001b[38;5;241m=\u001b[39m os\u001b[38;5;241m.\u001b[39mpath\u001b[38;5;241m.\u001b[39mjoin(data_dir, \u001b[38;5;124mf\u001b[39m\u001b[38;5;124m\"\u001b[39m\u001b[38;5;124mB0\u001b[39m\u001b[38;5;132;01m{\u001b[39;00msubject\u001b[38;5;132;01m}\u001b[39;00m\u001b[38;5;124mT.gdf\u001b[39m\u001b[38;5;124m\"\u001b[39m)\n\u001b[0;32m      6\u001b[0m \u001b[38;5;66;03m# Load the GDF file (correct function for .gdf)\u001b[39;00m\n\u001b[1;32m----> 7\u001b[0m raw \u001b[38;5;241m=\u001b[39m \u001b[43mmne\u001b[49m\u001b[38;5;241;43m.\u001b[39;49m\u001b[43mio\u001b[49m\u001b[38;5;241;43m.\u001b[39;49m\u001b[43mread_raw_gdf\u001b[49m\u001b[43m(\u001b[49m\u001b[43mfile_path\u001b[49m\u001b[43m,\u001b[49m\u001b[43m \u001b[49m\u001b[43mpreload\u001b[49m\u001b[38;5;241;43m=\u001b[39;49m\u001b[38;5;28;43;01mTrue\u001b[39;49;00m\u001b[43m)\u001b[49m\n\u001b[0;32m      9\u001b[0m \u001b[38;5;66;03m# Extract events (annotations)\u001b[39;00m\n\u001b[0;32m     10\u001b[0m events, event_dict \u001b[38;5;241m=\u001b[39m mne\u001b[38;5;241m.\u001b[39mevents_from_annotations(raw)\n",
      "File \u001b[1;32mc:\\Users\\luize\\OneDrive\\Área de Trabalho\\Codes\\EEG_Study\\venv\\lib\\site-packages\\mne\\io\\edf\\edf.py:1911\u001b[0m, in \u001b[0;36mread_raw_gdf\u001b[1;34m(input_fname, eog, misc, stim_channel, exclude, include, preload, verbose)\u001b[0m\n\u001b[0;32m   1909\u001b[0m \u001b[38;5;28;01mif\u001b[39;00m ext \u001b[38;5;241m!=\u001b[39m \u001b[38;5;124m\"\u001b[39m\u001b[38;5;124mgdf\u001b[39m\u001b[38;5;124m\"\u001b[39m:\n\u001b[0;32m   1910\u001b[0m     \u001b[38;5;28;01mraise\u001b[39;00m \u001b[38;5;167;01mNotImplementedError\u001b[39;00m(\u001b[38;5;124mf\u001b[39m\u001b[38;5;124m\"\u001b[39m\u001b[38;5;124mOnly GDF files are supported, got \u001b[39m\u001b[38;5;132;01m{\u001b[39;00mext\u001b[38;5;132;01m}\u001b[39;00m\u001b[38;5;124m.\u001b[39m\u001b[38;5;124m\"\u001b[39m)\n\u001b[1;32m-> 1911\u001b[0m \u001b[38;5;28;01mreturn\u001b[39;00m \u001b[43mRawGDF\u001b[49m\u001b[43m(\u001b[49m\n\u001b[0;32m   1912\u001b[0m \u001b[43m    \u001b[49m\u001b[43minput_fname\u001b[49m\u001b[38;5;241;43m=\u001b[39;49m\u001b[43minput_fname\u001b[49m\u001b[43m,\u001b[49m\n\u001b[0;32m   1913\u001b[0m \u001b[43m    \u001b[49m\u001b[43meog\u001b[49m\u001b[38;5;241;43m=\u001b[39;49m\u001b[43meog\u001b[49m\u001b[43m,\u001b[49m\n\u001b[0;32m   1914\u001b[0m \u001b[43m    \u001b[49m\u001b[43mmisc\u001b[49m\u001b[38;5;241;43m=\u001b[39;49m\u001b[43mmisc\u001b[49m\u001b[43m,\u001b[49m\n\u001b[0;32m   1915\u001b[0m \u001b[43m    \u001b[49m\u001b[43mstim_channel\u001b[49m\u001b[38;5;241;43m=\u001b[39;49m\u001b[43mstim_channel\u001b[49m\u001b[43m,\u001b[49m\n\u001b[0;32m   1916\u001b[0m \u001b[43m    \u001b[49m\u001b[43mexclude\u001b[49m\u001b[38;5;241;43m=\u001b[39;49m\u001b[43mexclude\u001b[49m\u001b[43m,\u001b[49m\n\u001b[0;32m   1917\u001b[0m \u001b[43m    \u001b[49m\u001b[43mpreload\u001b[49m\u001b[38;5;241;43m=\u001b[39;49m\u001b[43mpreload\u001b[49m\u001b[43m,\u001b[49m\n\u001b[0;32m   1918\u001b[0m \u001b[43m    \u001b[49m\u001b[43minclude\u001b[49m\u001b[38;5;241;43m=\u001b[39;49m\u001b[43minclude\u001b[49m\u001b[43m,\u001b[49m\n\u001b[0;32m   1919\u001b[0m \u001b[43m    \u001b[49m\u001b[43mverbose\u001b[49m\u001b[38;5;241;43m=\u001b[39;49m\u001b[43mverbose\u001b[49m\u001b[43m,\u001b[49m\n\u001b[0;32m   1920\u001b[0m \u001b[43m\u001b[49m\u001b[43m)\u001b[49m\n",
      "File \u001b[1;32m<decorator-gen-205>:12\u001b[0m, in \u001b[0;36m__init__\u001b[1;34m(self, input_fname, eog, misc, stim_channel, exclude, preload, include, verbose)\u001b[0m\n",
      "File \u001b[1;32mc:\\Users\\luize\\OneDrive\\Área de Trabalho\\Codes\\EEG_Study\\venv\\lib\\site-packages\\mne\\io\\edf\\edf.py:294\u001b[0m, in \u001b[0;36mRawGDF.__init__\u001b[1;34m(self, input_fname, eog, misc, stim_channel, exclude, preload, include, verbose)\u001b[0m\n\u001b[0;32m    292\u001b[0m logger\u001b[38;5;241m.\u001b[39minfo(\u001b[38;5;124mf\u001b[39m\u001b[38;5;124m\"\u001b[39m\u001b[38;5;124mExtracting EDF parameters from \u001b[39m\u001b[38;5;132;01m{\u001b[39;00minput_fname\u001b[38;5;132;01m}\u001b[39;00m\u001b[38;5;124m...\u001b[39m\u001b[38;5;124m\"\u001b[39m)\n\u001b[0;32m    293\u001b[0m input_fname \u001b[38;5;241m=\u001b[39m os\u001b[38;5;241m.\u001b[39mpath\u001b[38;5;241m.\u001b[39mabspath(input_fname)\n\u001b[1;32m--> 294\u001b[0m info, edf_info, orig_units \u001b[38;5;241m=\u001b[39m \u001b[43m_get_info\u001b[49m\u001b[43m(\u001b[49m\n\u001b[0;32m    295\u001b[0m \u001b[43m    \u001b[49m\u001b[43minput_fname\u001b[49m\u001b[43m,\u001b[49m\u001b[43m \u001b[49m\u001b[43mstim_channel\u001b[49m\u001b[43m,\u001b[49m\u001b[43m \u001b[49m\u001b[43meog\u001b[49m\u001b[43m,\u001b[49m\u001b[43m \u001b[49m\u001b[43mmisc\u001b[49m\u001b[43m,\u001b[49m\u001b[43m \u001b[49m\u001b[43mexclude\u001b[49m\u001b[43m,\u001b[49m\u001b[43m \u001b[49m\u001b[38;5;28;43;01mTrue\u001b[39;49;00m\u001b[43m,\u001b[49m\u001b[43m \u001b[49m\u001b[43mpreload\u001b[49m\u001b[43m,\u001b[49m\u001b[43m \u001b[49m\u001b[43minclude\u001b[49m\n\u001b[0;32m    296\u001b[0m \u001b[43m\u001b[49m\u001b[43m)\u001b[49m\n\u001b[0;32m    297\u001b[0m logger\u001b[38;5;241m.\u001b[39minfo(\u001b[38;5;124m\"\u001b[39m\u001b[38;5;124mCreating raw.info structure...\u001b[39m\u001b[38;5;124m\"\u001b[39m)\n\u001b[0;32m    299\u001b[0m \u001b[38;5;66;03m# Raw attributes\u001b[39;00m\n",
      "File \u001b[1;32mc:\\Users\\luize\\OneDrive\\Área de Trabalho\\Codes\\EEG_Study\\venv\\lib\\site-packages\\mne\\io\\edf\\edf.py:538\u001b[0m, in \u001b[0;36m_get_info\u001b[1;34m(fname, stim_channel, eog, misc, exclude, infer_types, preload, include, exclude_after_unique)\u001b[0m\n\u001b[0;32m    535\u001b[0m eog \u001b[38;5;241m=\u001b[39m eog \u001b[38;5;28;01mif\u001b[39;00m eog \u001b[38;5;129;01mis\u001b[39;00m \u001b[38;5;129;01mnot\u001b[39;00m \u001b[38;5;28;01mNone\u001b[39;00m \u001b[38;5;28;01melse\u001b[39;00m []\n\u001b[0;32m    536\u001b[0m misc \u001b[38;5;241m=\u001b[39m misc \u001b[38;5;28;01mif\u001b[39;00m misc \u001b[38;5;129;01mis\u001b[39;00m \u001b[38;5;129;01mnot\u001b[39;00m \u001b[38;5;28;01mNone\u001b[39;00m \u001b[38;5;28;01melse\u001b[39;00m []\n\u001b[1;32m--> 538\u001b[0m edf_info, orig_units \u001b[38;5;241m=\u001b[39m \u001b[43m_read_header\u001b[49m\u001b[43m(\u001b[49m\n\u001b[0;32m    539\u001b[0m \u001b[43m    \u001b[49m\u001b[43mfname\u001b[49m\u001b[43m,\u001b[49m\u001b[43m \u001b[49m\u001b[43mexclude\u001b[49m\u001b[43m,\u001b[49m\u001b[43m \u001b[49m\u001b[43minfer_types\u001b[49m\u001b[43m,\u001b[49m\u001b[43m \u001b[49m\u001b[43minclude\u001b[49m\u001b[43m,\u001b[49m\u001b[43m \u001b[49m\u001b[43mexclude_after_unique\u001b[49m\n\u001b[0;32m    540\u001b[0m \u001b[43m\u001b[49m\u001b[43m)\u001b[49m\n\u001b[0;32m    542\u001b[0m \u001b[38;5;66;03m# XXX: `tal_ch_names` to pass to `_check_stim_channel` should be computed\u001b[39;00m\n\u001b[0;32m    543\u001b[0m \u001b[38;5;66;03m#      from `edf_info['ch_names']` and `edf_info['tal_idx']` but 'tal_idx'\u001b[39;00m\n\u001b[0;32m    544\u001b[0m \u001b[38;5;66;03m#      contains stim channels that are not TAL.\u001b[39;00m\n\u001b[0;32m    545\u001b[0m stim_channel_idxs, _ \u001b[38;5;241m=\u001b[39m _check_stim_channel(stim_channel, edf_info[\u001b[38;5;124m\"\u001b[39m\u001b[38;5;124mch_names\u001b[39m\u001b[38;5;124m\"\u001b[39m])\n",
      "File \u001b[1;32mc:\\Users\\luize\\OneDrive\\Área de Trabalho\\Codes\\EEG_Study\\venv\\lib\\site-packages\\mne\\io\\edf\\edf.py:516\u001b[0m, in \u001b[0;36m_read_header\u001b[1;34m(fname, exclude, infer_types, include, exclude_after_unique)\u001b[0m\n\u001b[0;32m    512\u001b[0m     \u001b[38;5;28;01mreturn\u001b[39;00m _read_edf_header(\n\u001b[0;32m    513\u001b[0m         fname, exclude, infer_types, include, exclude_after_unique\n\u001b[0;32m    514\u001b[0m     )\n\u001b[0;32m    515\u001b[0m \u001b[38;5;28;01melif\u001b[39;00m ext \u001b[38;5;241m==\u001b[39m \u001b[38;5;124m\"\u001b[39m\u001b[38;5;124mgdf\u001b[39m\u001b[38;5;124m\"\u001b[39m:\n\u001b[1;32m--> 516\u001b[0m     \u001b[38;5;28;01mreturn\u001b[39;00m \u001b[43m_read_gdf_header\u001b[49m\u001b[43m(\u001b[49m\u001b[43mfname\u001b[49m\u001b[43m,\u001b[49m\u001b[43m \u001b[49m\u001b[43mexclude\u001b[49m\u001b[43m,\u001b[49m\u001b[43m \u001b[49m\u001b[43minclude\u001b[49m\u001b[43m)\u001b[49m, \u001b[38;5;28;01mNone\u001b[39;00m\n\u001b[0;32m    517\u001b[0m \u001b[38;5;28;01melse\u001b[39;00m:\n\u001b[0;32m    518\u001b[0m     \u001b[38;5;28;01mraise\u001b[39;00m \u001b[38;5;167;01mNotImplementedError\u001b[39;00m(\n\u001b[0;32m    519\u001b[0m         \u001b[38;5;124mf\u001b[39m\u001b[38;5;124m\"\u001b[39m\u001b[38;5;124mOnly GDF, EDF, and BDF files are supported, got \u001b[39m\u001b[38;5;132;01m{\u001b[39;00mext\u001b[38;5;132;01m}\u001b[39;00m\u001b[38;5;124m.\u001b[39m\u001b[38;5;124m\"\u001b[39m\n\u001b[0;32m    520\u001b[0m     )\n",
      "File \u001b[1;32mc:\\Users\\luize\\OneDrive\\Área de Trabalho\\Codes\\EEG_Study\\venv\\lib\\site-packages\\mne\\io\\edf\\edf.py:1455\u001b[0m, in \u001b[0;36m_read_gdf_header\u001b[1;34m(fname, exclude, include)\u001b[0m\n\u001b[0;32m   1453\u001b[0m     n_events \u001b[38;5;241m=\u001b[39m ne[\u001b[38;5;241m0\u001b[39m]\n\u001b[0;32m   1454\u001b[0m     \u001b[38;5;28;01mfor\u001b[39;00m i \u001b[38;5;129;01min\u001b[39;00m \u001b[38;5;28mrange\u001b[39m(\u001b[38;5;241m1\u001b[39m, \u001b[38;5;28mlen\u001b[39m(ne)):\n\u001b[1;32m-> 1455\u001b[0m         n_events \u001b[38;5;241m=\u001b[39m \u001b[43mn_events\u001b[49m\u001b[43m \u001b[49m\u001b[38;5;241;43m+\u001b[39;49m\u001b[43m \u001b[49m\u001b[38;5;28;43mint\u001b[39;49m\u001b[43m(\u001b[49m\u001b[43mne\u001b[49m\u001b[43m[\u001b[49m\u001b[43mi\u001b[49m\u001b[43m]\u001b[49m\u001b[43m)\u001b[49m\u001b[43m \u001b[49m\u001b[38;5;241;43m*\u001b[39;49m\u001b[43m \u001b[49m\u001b[38;5;241;43m2\u001b[39;49m\u001b[43m \u001b[49m\u001b[38;5;241;43m*\u001b[39;49m\u001b[38;5;241;43m*\u001b[39;49m\u001b[43m \u001b[49m\u001b[43m(\u001b[49m\u001b[43mi\u001b[49m\u001b[43m \u001b[49m\u001b[38;5;241;43m*\u001b[39;49m\u001b[43m \u001b[49m\u001b[38;5;241;43m8\u001b[39;49m\u001b[43m)\u001b[49m\n\u001b[0;32m   1456\u001b[0m     event_sr \u001b[38;5;241m=\u001b[39m np\u001b[38;5;241m.\u001b[39mfromfile(fid, FLOAT32, \u001b[38;5;241m1\u001b[39m)[\u001b[38;5;241m0\u001b[39m]\n\u001b[0;32m   1458\u001b[0m pos \u001b[38;5;241m=\u001b[39m np\u001b[38;5;241m.\u001b[39mfromfile(fid, UINT32, n_events) \u001b[38;5;241m-\u001b[39m \u001b[38;5;241m1\u001b[39m  \u001b[38;5;66;03m# 1-based inds\u001b[39;00m\n",
      "\u001b[1;31mOverflowError\u001b[0m: Python integer 256 out of bounds for uint8"
     ]
    }
   ],
   "source": [
    "data_dir = \"./BCICIV_2b_gdf\"  # Update this path!\n",
    "X, y = load_bci_iv_2b(subject=101, data_dir=data_dir)\n",
    "\n",
    "print(f\"Data shape: {X.shape}\")  # Should print (n_trials, 3, 500)\n",
    "print(f\"Labels: {np.unique(y)}\")  # Should print [0 1] (left/right)"
   ]
  },
  {
   "cell_type": "code",
   "execution_count": 4,
   "id": "d77e2381",
   "metadata": {},
   "outputs": [
    {
     "ename": "NameError",
     "evalue": "name 'X' is not defined",
     "output_type": "error",
     "traceback": [
      "\u001b[1;31m---------------------------------------------------------------------------\u001b[0m",
      "\u001b[1;31mNameError\u001b[0m                                 Traceback (most recent call last)",
      "Cell \u001b[1;32mIn[4], line 24\u001b[0m\n\u001b[0;32m     21\u001b[0m     \u001b[38;5;28;01mreturn\u001b[39;00m np\u001b[38;5;241m.\u001b[39marray(stft_images)\n\u001b[0;32m     23\u001b[0m \u001b[38;5;66;03m# Apply STFT\u001b[39;00m\n\u001b[1;32m---> 24\u001b[0m X_stft \u001b[38;5;241m=\u001b[39m compute_stft(\u001b[43mX\u001b[49m)\n\u001b[0;32m     25\u001b[0m \u001b[38;5;28mprint\u001b[39m(\u001b[38;5;124mf\u001b[39m\u001b[38;5;124m\"\u001b[39m\u001b[38;5;124mSTFT shape: \u001b[39m\u001b[38;5;132;01m{\u001b[39;00mX_stft\u001b[38;5;241m.\u001b[39mshape\u001b[38;5;132;01m}\u001b[39;00m\u001b[38;5;124m\"\u001b[39m)  \u001b[38;5;66;03m# (n_trials, 93, 32)\u001b[39;00m\n",
      "\u001b[1;31mNameError\u001b[0m: name 'X' is not defined"
     ]
    }
   ],
   "source": [
    "def compute_stft(eeg_data, fs=250, nperseg=64, noverlap=50):\n",
    "    \"\"\"Convert EEG trials to STFT spectrograms.\"\"\"\n",
    "    n_trials, n_channels, _ = eeg_data.shape\n",
    "    stft_images = []\n",
    "    \n",
    "    for trial in range(n_trials):\n",
    "        channel_images = []\n",
    "        for channel in range(n_channels):\n",
    "            f, t, Zxx = stft(eeg_data[trial, channel], fs=fs, nperseg=nperseg, noverlap=noverlap)\n",
    "            # Extract mu (6-13 Hz) and beta (17-30 Hz) bands\n",
    "            mu_band = Zxx[(f >= 6) & (f <= 13), :]\n",
    "            beta_band = Zxx[(f >= 17) & (f <= 30), :]\n",
    "            beta_band = np.resize(beta_band, (15, 32))  # Resize to match mu_band\n",
    "            combined = np.vstack((mu_band.real, beta_band.real))  # Shape: (31, 32)\n",
    "            channel_images.append(combined)\n",
    "        \n",
    "        # Stack channels (3 electrodes × 31×32 → 93×32)\n",
    "        stft_image = np.vstack(channel_images)\n",
    "        stft_images.append(stft_image)\n",
    "    \n",
    "    return np.array(stft_images)\n",
    "\n",
    "# Apply STFT\n",
    "X_stft = compute_stft(X)\n",
    "print(f\"STFT shape: {X_stft.shape}\")  # (n_trials, 93, 32)"
   ]
  },
  {
   "cell_type": "code",
   "execution_count": null,
   "id": "fb7016e1",
   "metadata": {},
   "outputs": [],
   "source": [
    "def build_cnn(input_shape=(93, 32, 1)):\n",
    "    \"\"\"CNN for feature extraction.\"\"\"\n",
    "    model = models.Sequential([\n",
    "        layers.InputLayer(input_shape=input_shape),\n",
    "        layers.Conv2D(30, kernel_size=(93, 3), activation='relu', padding='valid'),\n",
    "        layers.MaxPooling2D(pool_size=(1, 10)),\n",
    "        layers.Flatten()\n",
    "    ])\n",
    "    return model\n",
    "\n",
    "def build_vae(latent_dim=10):\n",
    "    \"\"\"Variational Autoencoder for classification.\"\"\"\n",
    "    # Encoder\n",
    "    encoder_inputs = layers.Input(shape=(900,))\n",
    "    x = layers.Dense(512, activation='relu')(encoder_inputs)\n",
    "    x = layers.Dense(256, activation='relu')(x)\n",
    "    z_mean = layers.Dense(latent_dim)(x)\n",
    "    z_log_var = layers.Dense(latent_dim)(x)\n",
    "    \n",
    "    # Sampling layer\n",
    "    def sampling(args):\n",
    "        z_mean, z_log_var = args\n",
    "        epsilon = tf.random.normal(shape=tf.shape(z_mean))\n",
    "        return z_mean + tf.exp(0.5 * z_log_var) * epsilon\n",
    "    \n",
    "    z = layers.Lambda(sampling)([z_mean, z_log_var])\n",
    "    \n",
    "    # Decoder\n",
    "    decoder_inputs = layers.Input(shape=(latent_dim,))\n",
    "    x = layers.Dense(256, activation='relu')(decoder_inputs)\n",
    "    x = layers.Dense(512, activation='relu')(x)\n",
    "    decoder_outputs = layers.Dense(900, activation='sigmoid')(x)\n",
    "    \n",
    "    # VAE models\n",
    "    encoder = models.Model(encoder_inputs, [z_mean, z_log_var, z])\n",
    "    decoder = models.Model(decoder_inputs, decoder_outputs)\n",
    "    \n",
    "    # Classification head\n",
    "    classifier_outputs = layers.Dense(1, activation='sigmoid')(z)\n",
    "    vae_classifier = models.Model(encoder_inputs, classifier_outputs)\n",
    "    \n",
    "    return encoder, decoder, vae_classifier\n",
    "\n",
    "# Combine CNN and VAE\n",
    "cnn = build_cnn()\n",
    "encoder, decoder, vae_classifier = build_vae()\n",
    "\n",
    "# Full pipeline: CNN → VAE Classifier\n",
    "input_eeg = layers.Input(shape=(93, 32, 1))\n",
    "cnn_features = cnn(input_eeg)\n",
    "predictions = vae_classifier(cnn_features)\n",
    "cnn_vae = models.Model(input_eeg, predictions)\n",
    "\n",
    "# Compile\n",
    "cnn_vae.compile(optimizer=optimizers.Adam(), \n",
    "                loss='binary_crossentropy', \n",
    "                metrics=['accuracy'])"
   ]
  },
  {
   "cell_type": "code",
   "execution_count": null,
   "id": "9cd185a1",
   "metadata": {},
   "outputs": [],
   "source": [
    "# Reshape data for CNN (add channel dimension)\n",
    "X_stft = X_stft[..., np.newaxis]  # Shape: (n_trials, 93, 32, 1)\n",
    "\n",
    "# Split data\n",
    "X_train, X_test, y_train, y_test = train_test_split(X_stft, y, test_size=0.1, random_state=42)\n",
    "\n",
    "# Train CNN-VAE\n",
    "history = cnn_vae.fit(X_train, y_train, \n",
    "                      epochs=100, \n",
    "                      batch_size=50, \n",
    "                      validation_data=(X_test, y_test))\n",
    "\n",
    "# Evaluate\n",
    "y_pred = (cnn_vae.predict(X_test) > 0.5).astype(int)\n",
    "kappa = cohen_kappa_score(y_test, y_pred)\n",
    "print(f\"Kappa: {kappa:.3f}\")"
   ]
  }
 ],
 "metadata": {
  "kernelspec": {
   "display_name": "venv",
   "language": "python",
   "name": "python3"
  },
  "language_info": {
   "codemirror_mode": {
    "name": "ipython",
    "version": 3
   },
   "file_extension": ".py",
   "mimetype": "text/x-python",
   "name": "python",
   "nbconvert_exporter": "python",
   "pygments_lexer": "ipython3",
   "version": "3.10.11"
  }
 },
 "nbformat": 4,
 "nbformat_minor": 5
}
